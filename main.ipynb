{
 "cells": [
  {
   "cell_type": "code",
   "execution_count": 1,
   "id": "8a09fc65-94f0-446e-8490-7e514ba3d884",
   "metadata": {},
   "outputs": [],
   "source": [
    "import pandas as pd"
   ]
  },
  {
   "cell_type": "code",
   "execution_count": 2,
   "id": "d1dca25b-f475-4e88-a51f-d8b15e9d99a0",
   "metadata": {},
   "outputs": [
    {
     "data": {
      "text/html": [
       "<div>\n",
       "<style scoped>\n",
       "    .dataframe tbody tr th:only-of-type {\n",
       "        vertical-align: middle;\n",
       "    }\n",
       "\n",
       "    .dataframe tbody tr th {\n",
       "        vertical-align: top;\n",
       "    }\n",
       "\n",
       "    .dataframe thead th {\n",
       "        text-align: right;\n",
       "    }\n",
       "</style>\n",
       "<table border=\"1\" class=\"dataframe\">\n",
       "  <thead>\n",
       "    <tr style=\"text-align: right;\">\n",
       "      <th></th>\n",
       "      <th>battery_power</th>\n",
       "      <th>blue</th>\n",
       "      <th>clock_speed</th>\n",
       "      <th>dual_sim</th>\n",
       "      <th>fc</th>\n",
       "      <th>four_g</th>\n",
       "      <th>int_memory</th>\n",
       "      <th>m_dep</th>\n",
       "      <th>mobile_wt</th>\n",
       "      <th>n_cores</th>\n",
       "      <th>...</th>\n",
       "      <th>px_height</th>\n",
       "      <th>px_width</th>\n",
       "      <th>ram</th>\n",
       "      <th>sc_h</th>\n",
       "      <th>sc_w</th>\n",
       "      <th>talk_time</th>\n",
       "      <th>three_g</th>\n",
       "      <th>touch_screen</th>\n",
       "      <th>wifi</th>\n",
       "      <th>price_range</th>\n",
       "    </tr>\n",
       "  </thead>\n",
       "  <tbody>\n",
       "    <tr>\n",
       "      <th>0</th>\n",
       "      <td>842</td>\n",
       "      <td>0</td>\n",
       "      <td>2.2</td>\n",
       "      <td>0</td>\n",
       "      <td>1</td>\n",
       "      <td>0</td>\n",
       "      <td>7</td>\n",
       "      <td>0.6</td>\n",
       "      <td>188</td>\n",
       "      <td>2</td>\n",
       "      <td>...</td>\n",
       "      <td>20</td>\n",
       "      <td>756</td>\n",
       "      <td>2549</td>\n",
       "      <td>9</td>\n",
       "      <td>7</td>\n",
       "      <td>19</td>\n",
       "      <td>0</td>\n",
       "      <td>0</td>\n",
       "      <td>1</td>\n",
       "      <td>1</td>\n",
       "    </tr>\n",
       "    <tr>\n",
       "      <th>1</th>\n",
       "      <td>1021</td>\n",
       "      <td>1</td>\n",
       "      <td>0.5</td>\n",
       "      <td>1</td>\n",
       "      <td>0</td>\n",
       "      <td>1</td>\n",
       "      <td>53</td>\n",
       "      <td>0.7</td>\n",
       "      <td>136</td>\n",
       "      <td>3</td>\n",
       "      <td>...</td>\n",
       "      <td>905</td>\n",
       "      <td>1988</td>\n",
       "      <td>2631</td>\n",
       "      <td>17</td>\n",
       "      <td>3</td>\n",
       "      <td>7</td>\n",
       "      <td>1</td>\n",
       "      <td>1</td>\n",
       "      <td>0</td>\n",
       "      <td>2</td>\n",
       "    </tr>\n",
       "    <tr>\n",
       "      <th>2</th>\n",
       "      <td>563</td>\n",
       "      <td>1</td>\n",
       "      <td>0.5</td>\n",
       "      <td>1</td>\n",
       "      <td>2</td>\n",
       "      <td>1</td>\n",
       "      <td>41</td>\n",
       "      <td>0.9</td>\n",
       "      <td>145</td>\n",
       "      <td>5</td>\n",
       "      <td>...</td>\n",
       "      <td>1263</td>\n",
       "      <td>1716</td>\n",
       "      <td>2603</td>\n",
       "      <td>11</td>\n",
       "      <td>2</td>\n",
       "      <td>9</td>\n",
       "      <td>1</td>\n",
       "      <td>1</td>\n",
       "      <td>0</td>\n",
       "      <td>2</td>\n",
       "    </tr>\n",
       "    <tr>\n",
       "      <th>3</th>\n",
       "      <td>615</td>\n",
       "      <td>1</td>\n",
       "      <td>2.5</td>\n",
       "      <td>0</td>\n",
       "      <td>0</td>\n",
       "      <td>0</td>\n",
       "      <td>10</td>\n",
       "      <td>0.8</td>\n",
       "      <td>131</td>\n",
       "      <td>6</td>\n",
       "      <td>...</td>\n",
       "      <td>1216</td>\n",
       "      <td>1786</td>\n",
       "      <td>2769</td>\n",
       "      <td>16</td>\n",
       "      <td>8</td>\n",
       "      <td>11</td>\n",
       "      <td>1</td>\n",
       "      <td>0</td>\n",
       "      <td>0</td>\n",
       "      <td>2</td>\n",
       "    </tr>\n",
       "    <tr>\n",
       "      <th>4</th>\n",
       "      <td>1821</td>\n",
       "      <td>1</td>\n",
       "      <td>1.2</td>\n",
       "      <td>0</td>\n",
       "      <td>13</td>\n",
       "      <td>1</td>\n",
       "      <td>44</td>\n",
       "      <td>0.6</td>\n",
       "      <td>141</td>\n",
       "      <td>2</td>\n",
       "      <td>...</td>\n",
       "      <td>1208</td>\n",
       "      <td>1212</td>\n",
       "      <td>1411</td>\n",
       "      <td>8</td>\n",
       "      <td>2</td>\n",
       "      <td>15</td>\n",
       "      <td>1</td>\n",
       "      <td>1</td>\n",
       "      <td>0</td>\n",
       "      <td>1</td>\n",
       "    </tr>\n",
       "  </tbody>\n",
       "</table>\n",
       "<p>5 rows × 21 columns</p>\n",
       "</div>"
      ],
      "text/plain": [
       "   battery_power  blue  clock_speed  dual_sim  fc  four_g  int_memory  m_dep  \\\n",
       "0            842     0          2.2         0   1       0           7    0.6   \n",
       "1           1021     1          0.5         1   0       1          53    0.7   \n",
       "2            563     1          0.5         1   2       1          41    0.9   \n",
       "3            615     1          2.5         0   0       0          10    0.8   \n",
       "4           1821     1          1.2         0  13       1          44    0.6   \n",
       "\n",
       "   mobile_wt  n_cores  ...  px_height  px_width   ram  sc_h  sc_w  talk_time  \\\n",
       "0        188        2  ...         20       756  2549     9     7         19   \n",
       "1        136        3  ...        905      1988  2631    17     3          7   \n",
       "2        145        5  ...       1263      1716  2603    11     2          9   \n",
       "3        131        6  ...       1216      1786  2769    16     8         11   \n",
       "4        141        2  ...       1208      1212  1411     8     2         15   \n",
       "\n",
       "   three_g  touch_screen  wifi  price_range  \n",
       "0        0             0     1            1  \n",
       "1        1             1     0            2  \n",
       "2        1             1     0            2  \n",
       "3        1             0     0            2  \n",
       "4        1             1     0            1  \n",
       "\n",
       "[5 rows x 21 columns]"
      ]
     },
     "execution_count": 2,
     "metadata": {},
     "output_type": "execute_result"
    }
   ],
   "source": [
    "df = pd.read_csv(\"train.csv\", sep=\";\")\n",
    "df.head()"
   ]
  },
  {
   "cell_type": "code",
   "execution_count": 3,
   "id": "2c59828b-3eb9-42ad-8e4a-6a68513226d0",
   "metadata": {},
   "outputs": [
    {
     "data": {
      "text/html": [
       "<div>\n",
       "<style scoped>\n",
       "    .dataframe tbody tr th:only-of-type {\n",
       "        vertical-align: middle;\n",
       "    }\n",
       "\n",
       "    .dataframe tbody tr th {\n",
       "        vertical-align: top;\n",
       "    }\n",
       "\n",
       "    .dataframe thead th {\n",
       "        text-align: right;\n",
       "    }\n",
       "</style>\n",
       "<table border=\"1\" class=\"dataframe\">\n",
       "  <thead>\n",
       "    <tr style=\"text-align: right;\">\n",
       "      <th></th>\n",
       "      <th>battery_power</th>\n",
       "      <th>blue</th>\n",
       "      <th>clock_speed</th>\n",
       "      <th>dual_sim</th>\n",
       "      <th>fc</th>\n",
       "      <th>four_g</th>\n",
       "      <th>int_memory</th>\n",
       "      <th>m_dep</th>\n",
       "      <th>mobile_wt</th>\n",
       "      <th>n_cores</th>\n",
       "      <th>...</th>\n",
       "      <th>px_height</th>\n",
       "      <th>px_width</th>\n",
       "      <th>ram</th>\n",
       "      <th>sc_h</th>\n",
       "      <th>sc_w</th>\n",
       "      <th>talk_time</th>\n",
       "      <th>three_g</th>\n",
       "      <th>touch_screen</th>\n",
       "      <th>wifi</th>\n",
       "      <th>price_range</th>\n",
       "    </tr>\n",
       "  </thead>\n",
       "  <tbody>\n",
       "    <tr>\n",
       "      <th>count</th>\n",
       "      <td>2000.000000</td>\n",
       "      <td>2000.0000</td>\n",
       "      <td>2000.000000</td>\n",
       "      <td>2000.000000</td>\n",
       "      <td>2000.000000</td>\n",
       "      <td>2000.000000</td>\n",
       "      <td>2000.000000</td>\n",
       "      <td>2000.000000</td>\n",
       "      <td>2000.000000</td>\n",
       "      <td>2000.000000</td>\n",
       "      <td>...</td>\n",
       "      <td>2000.000000</td>\n",
       "      <td>2000.000000</td>\n",
       "      <td>2000.000000</td>\n",
       "      <td>2000.000000</td>\n",
       "      <td>2000.000000</td>\n",
       "      <td>2000.000000</td>\n",
       "      <td>2000.000000</td>\n",
       "      <td>2000.000000</td>\n",
       "      <td>2000.000000</td>\n",
       "      <td>2000.000000</td>\n",
       "    </tr>\n",
       "    <tr>\n",
       "      <th>mean</th>\n",
       "      <td>1238.518500</td>\n",
       "      <td>0.4950</td>\n",
       "      <td>1.522250</td>\n",
       "      <td>0.510500</td>\n",
       "      <td>4.309500</td>\n",
       "      <td>0.521500</td>\n",
       "      <td>32.046500</td>\n",
       "      <td>0.501750</td>\n",
       "      <td>140.249000</td>\n",
       "      <td>4.547500</td>\n",
       "      <td>...</td>\n",
       "      <td>645.108000</td>\n",
       "      <td>1251.515500</td>\n",
       "      <td>2124.213000</td>\n",
       "      <td>12.306500</td>\n",
       "      <td>5.767000</td>\n",
       "      <td>11.011000</td>\n",
       "      <td>0.761500</td>\n",
       "      <td>0.503000</td>\n",
       "      <td>0.507000</td>\n",
       "      <td>1.500000</td>\n",
       "    </tr>\n",
       "    <tr>\n",
       "      <th>std</th>\n",
       "      <td>439.418206</td>\n",
       "      <td>0.5001</td>\n",
       "      <td>0.816004</td>\n",
       "      <td>0.502012</td>\n",
       "      <td>4.341444</td>\n",
       "      <td>0.499662</td>\n",
       "      <td>18.145715</td>\n",
       "      <td>0.288416</td>\n",
       "      <td>35.399655</td>\n",
       "      <td>2.571002</td>\n",
       "      <td>...</td>\n",
       "      <td>443.780811</td>\n",
       "      <td>432.199447</td>\n",
       "      <td>1084.732044</td>\n",
       "      <td>4.213245</td>\n",
       "      <td>4.356398</td>\n",
       "      <td>5.463955</td>\n",
       "      <td>0.426273</td>\n",
       "      <td>0.500116</td>\n",
       "      <td>0.500076</td>\n",
       "      <td>1.118314</td>\n",
       "    </tr>\n",
       "    <tr>\n",
       "      <th>min</th>\n",
       "      <td>501.000000</td>\n",
       "      <td>0.0000</td>\n",
       "      <td>0.500000</td>\n",
       "      <td>0.000000</td>\n",
       "      <td>0.000000</td>\n",
       "      <td>0.000000</td>\n",
       "      <td>2.000000</td>\n",
       "      <td>0.100000</td>\n",
       "      <td>80.000000</td>\n",
       "      <td>1.000000</td>\n",
       "      <td>...</td>\n",
       "      <td>0.000000</td>\n",
       "      <td>500.000000</td>\n",
       "      <td>256.000000</td>\n",
       "      <td>5.000000</td>\n",
       "      <td>0.000000</td>\n",
       "      <td>2.000000</td>\n",
       "      <td>0.000000</td>\n",
       "      <td>0.000000</td>\n",
       "      <td>0.000000</td>\n",
       "      <td>0.000000</td>\n",
       "    </tr>\n",
       "    <tr>\n",
       "      <th>25%</th>\n",
       "      <td>851.750000</td>\n",
       "      <td>0.0000</td>\n",
       "      <td>0.700000</td>\n",
       "      <td>0.000000</td>\n",
       "      <td>1.000000</td>\n",
       "      <td>0.000000</td>\n",
       "      <td>16.000000</td>\n",
       "      <td>0.200000</td>\n",
       "      <td>109.000000</td>\n",
       "      <td>3.000000</td>\n",
       "      <td>...</td>\n",
       "      <td>282.750000</td>\n",
       "      <td>874.750000</td>\n",
       "      <td>1207.500000</td>\n",
       "      <td>9.000000</td>\n",
       "      <td>2.000000</td>\n",
       "      <td>6.000000</td>\n",
       "      <td>1.000000</td>\n",
       "      <td>0.000000</td>\n",
       "      <td>0.000000</td>\n",
       "      <td>0.750000</td>\n",
       "    </tr>\n",
       "    <tr>\n",
       "      <th>50%</th>\n",
       "      <td>1226.000000</td>\n",
       "      <td>0.0000</td>\n",
       "      <td>1.500000</td>\n",
       "      <td>1.000000</td>\n",
       "      <td>3.000000</td>\n",
       "      <td>1.000000</td>\n",
       "      <td>32.000000</td>\n",
       "      <td>0.500000</td>\n",
       "      <td>141.000000</td>\n",
       "      <td>4.000000</td>\n",
       "      <td>...</td>\n",
       "      <td>564.000000</td>\n",
       "      <td>1247.000000</td>\n",
       "      <td>2146.500000</td>\n",
       "      <td>12.000000</td>\n",
       "      <td>5.000000</td>\n",
       "      <td>11.000000</td>\n",
       "      <td>1.000000</td>\n",
       "      <td>1.000000</td>\n",
       "      <td>1.000000</td>\n",
       "      <td>1.500000</td>\n",
       "    </tr>\n",
       "    <tr>\n",
       "      <th>75%</th>\n",
       "      <td>1615.250000</td>\n",
       "      <td>1.0000</td>\n",
       "      <td>2.200000</td>\n",
       "      <td>1.000000</td>\n",
       "      <td>7.000000</td>\n",
       "      <td>1.000000</td>\n",
       "      <td>48.000000</td>\n",
       "      <td>0.800000</td>\n",
       "      <td>170.000000</td>\n",
       "      <td>7.000000</td>\n",
       "      <td>...</td>\n",
       "      <td>947.250000</td>\n",
       "      <td>1633.000000</td>\n",
       "      <td>3064.500000</td>\n",
       "      <td>16.000000</td>\n",
       "      <td>9.000000</td>\n",
       "      <td>16.000000</td>\n",
       "      <td>1.000000</td>\n",
       "      <td>1.000000</td>\n",
       "      <td>1.000000</td>\n",
       "      <td>2.250000</td>\n",
       "    </tr>\n",
       "    <tr>\n",
       "      <th>max</th>\n",
       "      <td>1998.000000</td>\n",
       "      <td>1.0000</td>\n",
       "      <td>3.000000</td>\n",
       "      <td>2.000000</td>\n",
       "      <td>19.000000</td>\n",
       "      <td>1.000000</td>\n",
       "      <td>64.000000</td>\n",
       "      <td>1.000000</td>\n",
       "      <td>200.000000</td>\n",
       "      <td>57.000000</td>\n",
       "      <td>...</td>\n",
       "      <td>1960.000000</td>\n",
       "      <td>1998.000000</td>\n",
       "      <td>3998.000000</td>\n",
       "      <td>19.000000</td>\n",
       "      <td>18.000000</td>\n",
       "      <td>20.000000</td>\n",
       "      <td>1.000000</td>\n",
       "      <td>1.000000</td>\n",
       "      <td>1.000000</td>\n",
       "      <td>3.000000</td>\n",
       "    </tr>\n",
       "  </tbody>\n",
       "</table>\n",
       "<p>8 rows × 21 columns</p>\n",
       "</div>"
      ],
      "text/plain": [
       "       battery_power       blue  clock_speed     dual_sim           fc  \\\n",
       "count    2000.000000  2000.0000  2000.000000  2000.000000  2000.000000   \n",
       "mean     1238.518500     0.4950     1.522250     0.510500     4.309500   \n",
       "std       439.418206     0.5001     0.816004     0.502012     4.341444   \n",
       "min       501.000000     0.0000     0.500000     0.000000     0.000000   \n",
       "25%       851.750000     0.0000     0.700000     0.000000     1.000000   \n",
       "50%      1226.000000     0.0000     1.500000     1.000000     3.000000   \n",
       "75%      1615.250000     1.0000     2.200000     1.000000     7.000000   \n",
       "max      1998.000000     1.0000     3.000000     2.000000    19.000000   \n",
       "\n",
       "            four_g   int_memory        m_dep    mobile_wt      n_cores  ...  \\\n",
       "count  2000.000000  2000.000000  2000.000000  2000.000000  2000.000000  ...   \n",
       "mean      0.521500    32.046500     0.501750   140.249000     4.547500  ...   \n",
       "std       0.499662    18.145715     0.288416    35.399655     2.571002  ...   \n",
       "min       0.000000     2.000000     0.100000    80.000000     1.000000  ...   \n",
       "25%       0.000000    16.000000     0.200000   109.000000     3.000000  ...   \n",
       "50%       1.000000    32.000000     0.500000   141.000000     4.000000  ...   \n",
       "75%       1.000000    48.000000     0.800000   170.000000     7.000000  ...   \n",
       "max       1.000000    64.000000     1.000000   200.000000    57.000000  ...   \n",
       "\n",
       "         px_height     px_width          ram         sc_h         sc_w  \\\n",
       "count  2000.000000  2000.000000  2000.000000  2000.000000  2000.000000   \n",
       "mean    645.108000  1251.515500  2124.213000    12.306500     5.767000   \n",
       "std     443.780811   432.199447  1084.732044     4.213245     4.356398   \n",
       "min       0.000000   500.000000   256.000000     5.000000     0.000000   \n",
       "25%     282.750000   874.750000  1207.500000     9.000000     2.000000   \n",
       "50%     564.000000  1247.000000  2146.500000    12.000000     5.000000   \n",
       "75%     947.250000  1633.000000  3064.500000    16.000000     9.000000   \n",
       "max    1960.000000  1998.000000  3998.000000    19.000000    18.000000   \n",
       "\n",
       "         talk_time      three_g  touch_screen         wifi  price_range  \n",
       "count  2000.000000  2000.000000   2000.000000  2000.000000  2000.000000  \n",
       "mean     11.011000     0.761500      0.503000     0.507000     1.500000  \n",
       "std       5.463955     0.426273      0.500116     0.500076     1.118314  \n",
       "min       2.000000     0.000000      0.000000     0.000000     0.000000  \n",
       "25%       6.000000     1.000000      0.000000     0.000000     0.750000  \n",
       "50%      11.000000     1.000000      1.000000     1.000000     1.500000  \n",
       "75%      16.000000     1.000000      1.000000     1.000000     2.250000  \n",
       "max      20.000000     1.000000      1.000000     1.000000     3.000000  \n",
       "\n",
       "[8 rows x 21 columns]"
      ]
     },
     "execution_count": 3,
     "metadata": {},
     "output_type": "execute_result"
    }
   ],
   "source": [
    "df.describe()"
   ]
  },
  {
   "cell_type": "code",
   "execution_count": 4,
   "id": "43246118-ee47-499d-b15d-47f0ddbfff2d",
   "metadata": {},
   "outputs": [],
   "source": [
    "df[df[\"dual_sim\"] == 2] = 1"
   ]
  },
  {
   "cell_type": "code",
   "execution_count": 5,
   "id": "0efccf40-9310-4167-82d6-bf7b211487d1",
   "metadata": {},
   "outputs": [
    {
     "data": {
      "text/plain": [
       "1    1019\n",
       "0     981\n",
       "Name: dual_sim, dtype: int64"
      ]
     },
     "execution_count": 5,
     "metadata": {},
     "output_type": "execute_result"
    }
   ],
   "source": [
    "df[\"dual_sim\"].value_counts()"
   ]
  },
  {
   "cell_type": "code",
   "execution_count": 6,
   "id": "7de351ed-2cd7-4b35-8228-1548864ea573",
   "metadata": {},
   "outputs": [],
   "source": [
    "df[df['n_cores'] == 57] = df['n_cores'].median()"
   ]
  },
  {
   "cell_type": "code",
   "execution_count": 6,
   "id": "854ac40e-50f1-4408-b659-3c988c7394f2",
   "metadata": {},
   "outputs": [
    {
     "data": {
      "text/plain": [
       "4     274\n",
       "7     259\n",
       "8     256\n",
       "2     246\n",
       "5     246\n",
       "3     244\n",
       "1     244\n",
       "6     230\n",
       "57      1\n",
       "Name: n_cores, dtype: int64"
      ]
     },
     "execution_count": 6,
     "metadata": {},
     "output_type": "execute_result"
    }
   ],
   "source": [
    "df[\"n_cores\"].value_counts()"
   ]
  },
  {
   "cell_type": "code",
   "execution_count": 7,
   "id": "22eb16f3-77f6-457f-af8d-2803873e4dad",
   "metadata": {},
   "outputs": [
    {
     "data": {
      "text/plain": [
       "array([1, 2, 3, 0])"
      ]
     },
     "execution_count": 7,
     "metadata": {},
     "output_type": "execute_result"
    }
   ],
   "source": [
    "df['price_range'].unique()"
   ]
  },
  {
   "cell_type": "code",
   "execution_count": 10,
   "id": "346c931c-79e0-44fd-8a21-1e7530507fe7",
   "metadata": {},
   "outputs": [
    {
     "data": {
      "text/plain": [
       "<AxesSubplot:>"
      ]
     },
     "execution_count": 10,
     "metadata": {},
     "output_type": "execute_result"
    },
    {
     "data": {
      "image/png": "[encoded data removed]",
      "text/plain": [
       "<Figure size 432x288 with 1 Axes>"
      ]
     },
     "metadata": {
      "needs_background": "light"
     },
     "output_type": "display_data"
    }
   ],
   "source": []
  },
  {
   "cell_type": "code",
   "execution_count": 9,
   "id": "c135c632-ec0e-4b41-8261-66ad63b65e3d",
   "metadata": {},
   "outputs": [
    {
     "data": {
      "text/plain": [
       "1    502\n",
       "2    500\n",
       "0    499\n",
       "3    498\n",
       "4      1\n",
       "Name: price_range, dtype: int64"
      ]
     },
     "execution_count": 9,
     "metadata": {},
     "output_type": "execute_result"
    }
   ],
   "source": [
    "df['price_range'].value_counts()"
   ]
  },
  {
   "cell_type": "code",
   "execution_count": 11,
   "id": "23dd24e0-ae6a-423b-8505-399cc9cea739",
   "metadata": {},
   "outputs": [],
   "source": [
    "df[df['price_range'] == 4] = 3"
   ]
  },
  {
   "cell_type": "code",
   "execution_count": 12,
   "id": "e41ac91b-442b-47b7-84d5-88f81573c087",
   "metadata": {},
   "outputs": [],
   "source": [
    "from sklearn.model_selection import train_test_split\n",
    "\n",
    "X = df.drop(\"price_range\", axis=1)\n",
    "y = df['price_range']\n",
    "\n"
   ]
  },
  {
   "cell_type": "code",
   "execution_count": 13,
   "id": "6a2d9318-eab5-42a1-a122-e0b0ef3d170d",
   "metadata": {},
   "outputs": [],
   "source": [
    "X_train, X_val, y_train, y_val = train_test_split(X, y, test_size=0.2, random_state=42)"
   ]
  },
  {
   "cell_type": "code",
   "execution_count": 14,
   "id": "c2b0e0ab-1243-4f67-8586-4ef0267b30f5",
   "metadata": {},
   "outputs": [
    {
     "data": {
      "text/plain": [
       "((1600, 20), (400, 20))"
      ]
     },
     "execution_count": 14,
     "metadata": {},
     "output_type": "execute_result"
    }
   ],
   "source": [
    "X_train.shape, X_val.shape"
   ]
  },
  {
   "cell_type": "code",
   "execution_count": 14,
   "id": "e4b6532f-c199-4eb4-84ff-7ecd5a887feb",
   "metadata": {},
   "outputs": [
    {
     "data": {
      "text/plain": [
       "1    502\n",
       "2    500\n",
       "3    499\n",
       "0    499\n",
       "Name: price_range, dtype: int64"
      ]
     },
     "execution_count": 14,
     "metadata": {},
     "output_type": "execute_result"
    }
   ],
   "source": [
    "y.value_counts()"
   ]
  },
  {
   "cell_type": "code",
   "execution_count": 15,
   "id": "66fb5f31-dee4-4d34-b6f7-223f69589012",
   "metadata": {
    "tags": []
   },
   "outputs": [],
   "source": [
    "from sklearn import tree\n",
    "\n",
    "DesicionTree = tree.DecisionTreeClassifier()"
   ]
  },
  {
   "cell_type": "code",
   "execution_count": 16,
   "id": "f53c8167-b647-4513-b10e-8a432cc630bb",
   "metadata": {},
   "outputs": [
    {
     "data": {
      "text/plain": [
       "DecisionTreeClassifier()"
      ]
     },
     "execution_count": 16,
     "metadata": {},
     "output_type": "execute_result"
    }
   ],
   "source": [
    "DesicionTree.fit(X_train, y_train)"
   ]
  },
  {
   "cell_type": "code",
   "execution_count": 17,
   "id": "24ae2bf0-b956-47d1-8e49-f665afb47cfa",
   "metadata": {},
   "outputs": [],
   "source": [
    "preds = DesicionTree.predict(X_val)"
   ]
  },
  {
   "cell_type": "code",
   "execution_count": 18,
   "id": "40fd7249-0bbe-4197-80de-0b4fc707f524",
   "metadata": {},
   "outputs": [
    {
     "data": {
      "text/plain": [
       "[Text(0.48942010655444124, 0.96875, 'X[13] <= 2217.5\\ngini = 0.75\\nsamples = 1600\\nvalue = [394, 410, 408, 388]'),\n",
       " Text(0.2109766744269341, 0.90625, 'X[13] <= 1052.5\\ngini = 0.587\\nsamples = 840\\nvalue = [394, 358, 88, 0]'),\n",
       " Text(0.10386819484240688, 0.84375, 'X[11] <= 1445.0\\ngini = 0.168\\nsamples = 334\\nvalue = [303, 31, 0, 0]'),\n",
       " Text(0.08166189111747851, 0.78125, 'X[0] <= 1815.5\\ngini = 0.117\\nsamples = 320\\nvalue = [300, 20, 0, 0]'),\n",
       " Text(0.054441260744985676, 0.71875, 'X[16] <= 1.5\\ngini = 0.062\\nsamples = 280\\nvalue = [271, 9, 0, 0]'),\n",
       " Text(0.04871060171919771, 0.65625, 'gini = 0.0\\nsamples = 1\\nvalue = [0, 1, 0, 0]'),\n",
       " Text(0.06017191977077364, 0.65625, 'X[11] <= 1233.0\\ngini = 0.056\\nsamples = 279\\nvalue = [271, 8, 0, 0]'),\n",
       " Text(0.04011461318051576, 0.59375, 'X[12] <= 1977.0\\ngini = 0.037\\nsamples = 264\\nvalue = [259, 5, 0, 0]'),\n",
       " Text(0.02865329512893983, 0.53125, 'X[13] <= 835.5\\ngini = 0.03\\nsamples = 262\\nvalue = [258, 4, 0, 0]'),\n",
       " Text(0.022922636103151862, 0.46875, 'gini = 0.0\\nsamples = 198\\nvalue = [198, 0, 0, 0]'),\n",
       " Text(0.034383954154727794, 0.46875, 'X[12] <= 1882.0\\ngini = 0.117\\nsamples = 64\\nvalue = [60, 4, 0, 0]'),\n",
       " Text(0.02865329512893983, 0.40625, 'X[11] <= 1096.0\\ngini = 0.091\\nsamples = 63\\nvalue = [60, 3, 0, 0]'),\n",
       " Text(0.017191977077363897, 0.34375, 'X[13] <= 865.5\\ngini = 0.063\\nsamples = 61\\nvalue = [59, 2, 0, 0]'),\n",
       " Text(0.011461318051575931, 0.28125, 'X[12] <= 1239.0\\ngini = 0.375\\nsamples = 8\\nvalue = [6, 2, 0, 0]'),\n",
       " Text(0.0057306590257879654, 0.21875, 'gini = 0.0\\nsamples = 6\\nvalue = [6, 0, 0, 0]'),\n",
       " Text(0.017191977077363897, 0.21875, 'gini = 0.0\\nsamples = 2\\nvalue = [0, 2, 0, 0]'),\n",
       " Text(0.022922636103151862, 0.28125, 'gini = 0.0\\nsamples = 53\\nvalue = [53, 0, 0, 0]'),\n",
       " Text(0.04011461318051576, 0.34375, 'X[2] <= 1.35\\ngini = 0.5\\nsamples = 2\\nvalue = [1, 1, 0, 0]'),\n",
       " Text(0.034383954154727794, 0.28125, 'gini = 0.0\\nsamples = 1\\nvalue = [1, 0, 0, 0]'),\n",
       " Text(0.045845272206303724, 0.28125, 'gini = 0.0\\nsamples = 1\\nvalue = [0, 1, 0, 0]'),\n",
       " Text(0.04011461318051576, 0.40625, 'gini = 0.0\\nsamples = 1\\nvalue = [0, 1, 0, 0]'),\n",
       " Text(0.05157593123209169, 0.53125, 'X[8] <= 100.5\\ngini = 0.5\\nsamples = 2\\nvalue = [1, 1, 0, 0]'),\n",
       " Text(0.045845272206303724, 0.46875, 'gini = 0.0\\nsamples = 1\\nvalue = [1, 0, 0, 0]'),\n",
       " Text(0.05730659025787966, 0.46875, 'gini = 0.0\\nsamples = 1\\nvalue = [0, 1, 0, 0]'),\n",
       " Text(0.08022922636103152, 0.59375, 'X[0] <= 1562.5\\ngini = 0.32\\nsamples = 15\\nvalue = [12, 3, 0, 0]'),\n",
       " Text(0.07449856733524356, 0.53125, 'X[6] <= 2.5\\ngini = 0.142\\nsamples = 13\\nvalue = [12, 1, 0, 0]'),\n",
       " Text(0.06876790830945559, 0.46875, 'gini = 0.0\\nsamples = 1\\nvalue = [0, 1, 0, 0]'),\n",
       " Text(0.08022922636103152, 0.46875, 'gini = 0.0\\nsamples = 12\\nvalue = [12, 0, 0, 0]'),\n",
       " Text(0.08595988538681948, 0.53125, 'gini = 0.0\\nsamples = 2\\nvalue = [0, 2, 0, 0]'),\n",
       " Text(0.10888252148997135, 0.71875, 'X[13] <= 572.5\\ngini = 0.399\\nsamples = 40\\nvalue = [29, 11, 0, 0]'),\n",
       " Text(0.10315186246418338, 0.65625, 'gini = 0.0\\nsamples = 18\\nvalue = [18, 0, 0, 0]'),\n",
       " Text(0.11461318051575932, 0.65625, 'X[11] <= 712.0\\ngini = 0.5\\nsamples = 22\\nvalue = [11, 11, 0, 0]'),\n",
       " Text(0.10315186246418338, 0.59375, 'X[14] <= 17.5\\ngini = 0.278\\nsamples = 12\\nvalue = [10, 2, 0, 0]'),\n",
       " Text(0.09742120343839542, 0.53125, 'gini = 0.0\\nsamples = 9\\nvalue = [9, 0, 0, 0]'),\n",
       " Text(0.10888252148997135, 0.53125, 'X[1] <= 0.5\\ngini = 0.444\\nsamples = 3\\nvalue = [1, 2, 0, 0]'),\n",
       " Text(0.10315186246418338, 0.46875, 'gini = 0.0\\nsamples = 1\\nvalue = [1, 0, 0, 0]'),\n",
       " Text(0.11461318051575932, 0.46875, 'gini = 0.0\\nsamples = 2\\nvalue = [0, 2, 0, 0]'),\n",
       " Text(0.12607449856733524, 0.59375, 'X[7] <= 0.8\\ngini = 0.18\\nsamples = 10\\nvalue = [1, 9, 0, 0]'),\n",
       " Text(0.12034383954154727, 0.53125, 'gini = 0.0\\nsamples = 9\\nvalue = [0, 9, 0, 0]'),\n",
       " Text(0.1318051575931232, 0.53125, 'gini = 0.0\\nsamples = 1\\nvalue = [1, 0, 0, 0]'),\n",
       " Text(0.12607449856733524, 0.78125, 'X[7] <= 0.35\\ngini = 0.337\\nsamples = 14\\nvalue = [3, 11, 0, 0]'),\n",
       " Text(0.12034383954154727, 0.71875, 'gini = 0.0\\nsamples = 3\\nvalue = [3, 0, 0, 0]'),\n",
       " Text(0.1318051575931232, 0.71875, 'gini = 0.0\\nsamples = 11\\nvalue = [0, 11, 0, 0]'),\n",
       " Text(0.3180851540114613, 0.84375, 'X[0] <= 1007.5\\ngini = 0.52\\nsamples = 506\\nvalue = [91, 327, 88, 0]'),\n",
       " Text(0.1826647564469914, 0.78125, 'X[13] <= 1541.0\\ngini = 0.514\\nsamples = 174\\nvalue = [74, 96, 4, 0]'),\n",
       " Text(0.15472779369627507, 0.71875, 'X[11] <= 979.5\\ngini = 0.292\\nsamples = 79\\nvalue = [65, 14, 0, 0]'),\n",
       " Text(0.14326647564469913, 0.65625, 'X[12] <= 1497.5\\ngini = 0.112\\nsamples = 67\\nvalue = [63, 4, 0, 0]'),\n",
       " Text(0.13753581661891118, 0.59375, 'gini = 0.0\\nsamples = 56\\nvalue = [56, 0, 0, 0]'),\n",
       " Text(0.1489971346704871, 0.59375, 'X[8] <= 122.5\\ngini = 0.463\\nsamples = 11\\nvalue = [7, 4, 0, 0]'),\n",
       " Text(0.14326647564469913, 0.53125, 'X[3] <= 0.5\\ngini = 0.32\\nsamples = 5\\nvalue = [1, 4, 0, 0]'),\n",
       " Text(0.13753581661891118, 0.46875, 'gini = 0.0\\nsamples = 4\\nvalue = [0, 4, 0, 0]'),\n",
       " Text(0.1489971346704871, 0.46875, 'gini = 0.0\\nsamples = 1\\nvalue = [1, 0, 0, 0]'),\n",
       " Text(0.15472779369627507, 0.53125, 'gini = 0.0\\nsamples = 6\\nvalue = [6, 0, 0, 0]'),\n",
       " Text(0.166189111747851, 0.65625, 'X[2] <= 2.35\\ngini = 0.278\\nsamples = 12\\nvalue = [2, 10, 0, 0]'),\n",
       " Text(0.16045845272206305, 0.59375, 'gini = 0.0\\nsamples = 10\\nvalue = [0, 10, 0, 0]'),\n",
       " Text(0.17191977077363896, 0.59375, 'gini = 0.0\\nsamples = 2\\nvalue = [2, 0, 0, 0]'),\n",
       " Text(0.21060171919770773, 0.71875, 'X[12] <= 625.5\\ngini = 0.244\\nsamples = 95\\nvalue = [9, 82, 4, 0]'),\n",
       " Text(0.18911174785100288, 0.65625, 'X[1] <= 0.5\\ngini = 0.49\\nsamples = 7\\nvalue = [4, 3, 0, 0]'),\n",
       " Text(0.1833810888252149, 0.59375, 'X[13] <= 1782.5\\ngini = 0.375\\nsamples = 4\\nvalue = [1, 3, 0, 0]'),\n",
       " Text(0.17765042979942694, 0.53125, 'gini = 0.0\\nsamples = 1\\nvalue = [1, 0, 0, 0]'),\n",
       " Text(0.18911174785100288, 0.53125, 'gini = 0.0\\nsamples = 3\\nvalue = [0, 3, 0, 0]'),\n",
       " Text(0.19484240687679083, 0.59375, 'gini = 0.0\\nsamples = 3\\nvalue = [3, 0, 0, 0]'),\n",
       " Text(0.23209169054441262, 0.65625, 'X[11] <= 1434.5\\ngini = 0.189\\nsamples = 88\\nvalue = [5, 79, 4, 0]'),\n",
       " Text(0.21203438395415472, 0.59375, 'X[13] <= 1664.5\\ngini = 0.136\\nsamples = 83\\nvalue = [5, 77, 1, 0]'),\n",
       " Text(0.20057306590257878, 0.53125, 'X[12] <= 1206.5\\ngini = 0.444\\nsamples = 15\\nvalue = [5, 10, 0, 0]'),\n",
       " Text(0.19484240687679083, 0.46875, 'X[0] <= 700.5\\ngini = 0.408\\nsamples = 7\\nvalue = [5, 2, 0, 0]'),\n",
       " Text(0.18911174785100288, 0.40625, 'gini = 0.0\\nsamples = 4\\nvalue = [4, 0, 0, 0]'),\n",
       " Text(0.20057306590257878, 0.40625, 'X[14] <= 15.5\\ngini = 0.444\\nsamples = 3\\nvalue = [1, 2, 0, 0]'),\n",
       " Text(0.19484240687679083, 0.34375, 'gini = 0.0\\nsamples = 1\\nvalue = [1, 0, 0, 0]'),\n",
       " Text(0.20630372492836677, 0.34375, 'gini = 0.0\\nsamples = 2\\nvalue = [0, 2, 0, 0]'),\n",
       " Text(0.20630372492836677, 0.46875, 'gini = 0.0\\nsamples = 8\\nvalue = [0, 8, 0, 0]'),\n",
       " Text(0.22349570200573066, 0.53125, 'X[8] <= 189.0\\ngini = 0.029\\nsamples = 68\\nvalue = [0, 67, 1, 0]'),\n",
       " Text(0.2177650429799427, 0.46875, 'gini = 0.0\\nsamples = 60\\nvalue = [0, 60, 0, 0]'),\n",
       " Text(0.22922636103151864, 0.46875, 'X[8] <= 192.5\\ngini = 0.219\\nsamples = 8\\nvalue = [0, 7, 1, 0]'),\n",
       " Text(0.22349570200573066, 0.40625, 'gini = 0.0\\nsamples = 1\\nvalue = [0, 0, 1, 0]'),\n",
       " Text(0.2349570200573066, 0.40625, 'gini = 0.0\\nsamples = 7\\nvalue = [0, 7, 0, 0]'),\n",
       " Text(0.2521489971346705, 0.59375, 'X[9] <= 1.5\\ngini = 0.48\\nsamples = 5\\nvalue = [0, 2, 3, 0]'),\n",
       " Text(0.24641833810888253, 0.53125, 'X[15] <= 2.0\\ngini = 0.444\\nsamples = 3\\nvalue = [0, 2, 1, 0]'),\n",
       " Text(0.24068767908309455, 0.46875, 'gini = 0.0\\nsamples = 1\\nvalue = [0, 0, 1, 0]'),\n",
       " Text(0.2521489971346705, 0.46875, 'gini = 0.0\\nsamples = 2\\nvalue = [0, 2, 0, 0]'),\n",
       " Text(0.25787965616045844, 0.53125, 'gini = 0.0\\nsamples = 2\\nvalue = [0, 0, 2, 0]'),\n",
       " Text(0.45350555157593125, 0.78125, 'X[13] <= 1896.5\\ngini = 0.449\\nsamples = 332\\nvalue = [17, 231, 84, 0]'),\n",
       " Text(0.3912517908309456, 0.71875, 'X[11] <= 1166.0\\ngini = 0.355\\nsamples = 249\\nvalue = [17, 196, 36, 0]'),\n",
       " Text(0.32691618911174786, 0.65625, 'X[13] <= 1236.0\\ngini = 0.258\\nsamples = 193\\nvalue = [17, 165, 11, 0]'),\n",
       " Text(0.2808022922636103, 0.59375, 'X[9] <= 6.5\\ngini = 0.451\\nsamples = 35\\nvalue = [12, 23, 0, 0]'),\n",
       " Text(0.2693409742120344, 0.53125, 'X[8] <= 192.5\\ngini = 0.219\\nsamples = 24\\nvalue = [3, 21, 0, 0]'),\n",
       " Text(0.2636103151862464, 0.46875, 'X[2] <= 2.35\\ngini = 0.159\\nsamples = 23\\nvalue = [2, 21, 0, 0]'),\n",
       " Text(0.25787965616045844, 0.40625, 'gini = 0.0\\nsamples = 16\\nvalue = [0, 16, 0, 0]'),\n",
       " Text(0.2693409742120344, 0.40625, 'X[16] <= 15.5\\ngini = 0.408\\nsamples = 7\\nvalue = [2, 5, 0, 0]'),\n",
       " Text(0.2636103151862464, 0.34375, 'gini = 0.0\\nsamples = 5\\nvalue = [0, 5, 0, 0]'),\n",
       " Text(0.27507163323782235, 0.34375, 'gini = 0.0\\nsamples = 2\\nvalue = [2, 0, 0, 0]'),\n",
       " Text(0.27507163323782235, 0.46875, 'gini = 0.0\\nsamples = 1\\nvalue = [1, 0, 0, 0]'),\n",
       " Text(0.2922636103151863, 0.53125, 'X[0] <= 1469.5\\ngini = 0.298\\nsamples = 11\\nvalue = [9, 2, 0, 0]'),\n",
       " Text(0.28653295128939826, 0.46875, 'gini = 0.0\\nsamples = 8\\nvalue = [8, 0, 0, 0]'),\n",
       " Text(0.2979942693409742, 0.46875, 'X[2] <= 0.85\\ngini = 0.444\\nsamples = 3\\nvalue = [1, 2, 0, 0]'),\n",
       " Text(0.2922636103151863, 0.40625, 'gini = 0.0\\nsamples = 1\\nvalue = [1, 0, 0, 0]'),\n",
       " Text(0.3037249283667622, 0.40625, 'gini = 0.0\\nsamples = 2\\nvalue = [0, 2, 0, 0]'),\n",
       " Text(0.3730300859598854, 0.59375, 'X[0] <= 1988.5\\ngini = 0.186\\nsamples = 158\\nvalue = [5, 142, 11, 0]'),\n",
       " Text(0.3535100286532951, 0.53125, 'X[12] <= 1559.0\\ngini = 0.161\\nsamples = 151\\nvalue = [5, 138, 8, 0]'),\n",
       " Text(0.3316618911174785, 0.46875, 'X[0] <= 1065.0\\ngini = 0.115\\nsamples = 116\\nvalue = [5, 109, 2, 0]'),\n",
       " Text(0.3151862464183381, 0.40625, 'X[7] <= 0.85\\ngini = 0.444\\nsamples = 6\\nvalue = [2, 4, 0, 0]'),\n",
       " Text(0.30945558739255014, 0.34375, 'gini = 0.0\\nsamples = 4\\nvalue = [0, 4, 0, 0]'),\n",
       " Text(0.3209169054441261, 0.34375, 'gini = 0.0\\nsamples = 2\\nvalue = [2, 0, 0, 0]'),\n",
       " Text(0.34813753581661894, 0.40625, 'X[8] <= 82.5\\ngini = 0.088\\nsamples = 110\\nvalue = [3, 105, 2, 0]'),\n",
       " Text(0.332378223495702, 0.34375, 'X[19] <= 0.5\\ngini = 0.5\\nsamples = 2\\nvalue = [0, 1, 1, 0]'),\n",
       " Text(0.32664756446991405, 0.28125, 'gini = 0.0\\nsamples = 1\\nvalue = [0, 1, 0, 0]'),\n",
       " Text(0.33810888252148996, 0.28125, 'gini = 0.0\\nsamples = 1\\nvalue = [0, 0, 1, 0]'),\n",
       " Text(0.3638968481375358, 0.34375, 'X[12] <= 513.0\\ngini = 0.072\\nsamples = 108\\nvalue = [3, 104, 1, 0]'),\n",
       " Text(0.3495702005730659, 0.28125, 'X[19] <= 0.5\\ngini = 0.5\\nsamples = 2\\nvalue = [1, 1, 0, 0]'),\n",
       " Text(0.3438395415472779, 0.21875, 'gini = 0.0\\nsamples = 1\\nvalue = [1, 0, 0, 0]'),\n",
       " Text(0.3553008595988539, 0.21875, 'gini = 0.0\\nsamples = 1\\nvalue = [0, 1, 0, 0]'),\n",
       " Text(0.37822349570200575, 0.28125, 'X[13] <= 1883.5\\ngini = 0.055\\nsamples = 106\\nvalue = [2, 103, 1, 0]'),\n",
       " Text(0.3667621776504298, 0.21875, 'X[9] <= 1.5\\ngini = 0.039\\nsamples = 101\\nvalue = [2, 99, 0, 0]'),\n",
       " Text(0.36103151862464183, 0.15625, 'X[15] <= 6.5\\ngini = 0.165\\nsamples = 22\\nvalue = [2, 20, 0, 0]'),\n",
       " Text(0.3553008595988539, 0.09375, 'gini = 0.0\\nsamples = 16\\nvalue = [0, 16, 0, 0]'),\n",
       " Text(0.3667621776504298, 0.09375, 'X[8] <= 159.5\\ngini = 0.444\\nsamples = 6\\nvalue = [2, 4, 0, 0]'),\n",
       " Text(0.36103151862464183, 0.03125, 'gini = 0.0\\nsamples = 4\\nvalue = [0, 4, 0, 0]'),\n",
       " Text(0.37249283667621774, 0.03125, 'gini = 0.0\\nsamples = 2\\nvalue = [2, 0, 0, 0]'),\n",
       " Text(0.37249283667621774, 0.15625, 'gini = 0.0\\nsamples = 79\\nvalue = [0, 79, 0, 0]'),\n",
       " Text(0.38968481375358166, 0.21875, 'X[13] <= 1885.5\\ngini = 0.32\\nsamples = 5\\nvalue = [0, 4, 1, 0]'),\n",
       " Text(0.3839541547277937, 0.15625, 'gini = 0.0\\nsamples = 1\\nvalue = [0, 0, 1, 0]'),\n",
       " Text(0.3954154727793696, 0.15625, 'gini = 0.0\\nsamples = 4\\nvalue = [0, 4, 0, 0]'),\n",
       " Text(0.3753581661891118, 0.46875, 'X[0] <= 1551.0\\ngini = 0.284\\nsamples = 35\\nvalue = [0, 29, 6, 0]'),\n",
       " Text(0.36962750716332377, 0.40625, 'gini = 0.0\\nsamples = 21\\nvalue = [0, 21, 0, 0]'),\n",
       " Text(0.38108882521489973, 0.40625, 'X[13] <= 1562.5\\ngini = 0.49\\nsamples = 14\\nvalue = [0, 8, 6, 0]'),\n",
       " Text(0.3753581661891118, 0.34375, 'gini = 0.0\\nsamples = 8\\nvalue = [0, 8, 0, 0]'),\n",
       " Text(0.3868194842406877, 0.34375, 'gini = 0.0\\nsamples = 6\\nvalue = [0, 0, 6, 0]'),\n",
       " Text(0.39255014326647564, 0.53125, 'X[13] <= 1583.0\\ngini = 0.49\\nsamples = 7\\nvalue = [0, 4, 3, 0]'),\n",
       " Text(0.3868194842406877, 0.46875, 'gini = 0.0\\nsamples = 3\\nvalue = [0, 3, 0, 0]'),\n",
       " Text(0.3982808022922636, 0.46875, 'X[12] <= 1124.5\\ngini = 0.375\\nsamples = 4\\nvalue = [0, 1, 3, 0]'),\n",
       " Text(0.39255014326647564, 0.40625, 'gini = 0.0\\nsamples = 1\\nvalue = [0, 1, 0, 0]'),\n",
       " Text(0.4040114613180516, 0.40625, 'gini = 0.0\\nsamples = 3\\nvalue = [0, 0, 3, 0]'),\n",
       " Text(0.45558739255014324, 0.65625, 'X[13] <= 1427.0\\ngini = 0.494\\nsamples = 56\\nvalue = [0, 31, 25, 0]'),\n",
       " Text(0.4383954154727794, 0.59375, 'X[0] <= 1961.5\\ngini = 0.312\\nsamples = 31\\nvalue = [0, 25, 6, 0]'),\n",
       " Text(0.4326647564469914, 0.53125, 'X[15] <= 0.5\\ngini = 0.191\\nsamples = 28\\nvalue = [0, 25, 3, 0]'),\n",
       " Text(0.42120343839541546, 0.46875, 'X[13] <= 1269.0\\ngini = 0.444\\nsamples = 3\\nvalue = [0, 1, 2, 0]'),\n",
       " Text(0.4154727793696275, 0.40625, 'gini = 0.0\\nsamples = 1\\nvalue = [0, 1, 0, 0]'),\n",
       " Text(0.4269340974212034, 0.40625, 'gini = 0.0\\nsamples = 2\\nvalue = [0, 0, 2, 0]'),\n",
       " Text(0.44412607449856734, 0.46875, 'X[11] <= 1860.5\\ngini = 0.077\\nsamples = 25\\nvalue = [0, 24, 1, 0]'),\n",
       " Text(0.4383954154727794, 0.40625, 'gini = 0.0\\nsamples = 24\\nvalue = [0, 24, 0, 0]'),\n",
       " Text(0.4498567335243553, 0.40625, 'gini = 0.0\\nsamples = 1\\nvalue = [0, 0, 1, 0]'),\n",
       " Text(0.44412607449856734, 0.53125, 'gini = 0.0\\nsamples = 3\\nvalue = [0, 0, 3, 0]'),\n",
       " Text(0.47277936962750716, 0.59375, 'X[0] <= 1181.0\\ngini = 0.365\\nsamples = 25\\nvalue = [0, 6, 19, 0]'),\n",
       " Text(0.4670487106017192, 0.53125, 'gini = 0.0\\nsamples = 3\\nvalue = [0, 3, 0, 0]'),\n",
       " Text(0.4785100286532951, 0.53125, 'X[2] <= 2.25\\ngini = 0.236\\nsamples = 22\\nvalue = [0, 3, 19, 0]'),\n",
       " Text(0.4670487106017192, 0.46875, 'X[10] <= 1.5\\ngini = 0.1\\nsamples = 19\\nvalue = [0, 1, 18, 0]'),\n",
       " Text(0.46131805157593125, 0.40625, 'X[0] <= 1512.0\\ngini = 0.444\\nsamples = 3\\nvalue = [0, 1, 2, 0]'),\n",
       " Text(0.45558739255014324, 0.34375, 'gini = 0.0\\nsamples = 1\\nvalue = [0, 1, 0, 0]'),\n",
       " Text(0.4670487106017192, 0.34375, 'gini = 0.0\\nsamples = 2\\nvalue = [0, 0, 2, 0]'),\n",
       " Text(0.47277936962750716, 0.40625, 'gini = 0.0\\nsamples = 16\\nvalue = [0, 0, 16, 0]'),\n",
       " Text(0.4899713467048711, 0.46875, 'X[8] <= 150.0\\ngini = 0.444\\nsamples = 3\\nvalue = [0, 2, 1, 0]'),\n",
       " Text(0.48424068767908307, 0.40625, 'gini = 0.0\\nsamples = 1\\nvalue = [0, 0, 1, 0]'),\n",
       " Text(0.49570200573065903, 0.40625, 'gini = 0.0\\nsamples = 2\\nvalue = [0, 2, 0, 0]'),\n",
       " Text(0.5157593123209169, 0.71875, 'X[12] <= 1069.0\\ngini = 0.488\\nsamples = 83\\nvalue = [0, 35, 48, 0]'),\n",
       " Text(0.49570200573065903, 0.65625, 'X[0] <= 1467.0\\ngini = 0.298\\nsamples = 33\\nvalue = [0, 27, 6, 0]'),\n",
       " Text(0.4899713467048711, 0.59375, 'gini = 0.0\\nsamples = 21\\nvalue = [0, 21, 0, 0]'),\n",
       " Text(0.501432664756447, 0.59375, 'X[11] <= 396.5\\ngini = 0.5\\nsamples = 12\\nvalue = [0, 6, 6, 0]'),\n",
       " Text(0.49570200573065903, 0.53125, 'gini = 0.0\\nsamples = 5\\nvalue = [0, 5, 0, 0]'),\n",
       " Text(0.5071633237822349, 0.53125, 'X[17] <= 0.5\\ngini = 0.245\\nsamples = 7\\nvalue = [0, 1, 6, 0]'),\n",
       " Text(0.501432664756447, 0.46875, 'gini = 0.0\\nsamples = 1\\nvalue = [0, 1, 0, 0]'),\n",
       " Text(0.5128939828080229, 0.46875, 'gini = 0.0\\nsamples = 6\\nvalue = [0, 0, 6, 0]'),\n",
       " Text(0.5358166189111748, 0.65625, 'X[0] <= 1109.0\\ngini = 0.269\\nsamples = 50\\nvalue = [0, 8, 42, 0]'),\n",
       " Text(0.5243553008595988, 0.59375, 'X[7] <= 0.15\\ngini = 0.245\\nsamples = 7\\nvalue = [0, 6, 1, 0]'),\n",
       " Text(0.5186246418338109, 0.53125, 'gini = 0.0\\nsamples = 1\\nvalue = [0, 0, 1, 0]'),\n",
       " Text(0.5300859598853869, 0.53125, 'gini = 0.0\\nsamples = 6\\nvalue = [0, 6, 0, 0]'),\n",
       " Text(0.5472779369627507, 0.59375, 'X[0] <= 1184.0\\ngini = 0.089\\nsamples = 43\\nvalue = [0, 2, 41, 0]'),\n",
       " Text(0.5415472779369628, 0.53125, 'X[14] <= 8.5\\ngini = 0.444\\nsamples = 6\\nvalue = [0, 2, 4, 0]'),\n",
       " Text(0.5358166189111748, 0.46875, 'gini = 0.0\\nsamples = 4\\nvalue = [0, 0, 4, 0]'),\n",
       " Text(0.5472779369627507, 0.46875, 'gini = 0.0\\nsamples = 2\\nvalue = [0, 2, 0, 0]'),\n",
       " Text(0.5530085959885387, 0.53125, 'gini = 0.0\\nsamples = 37\\nvalue = [0, 0, 37, 0]'),\n",
       " Text(0.7678635386819485, 0.90625, 'X[13] <= 3013.5\\ngini = 0.557\\nsamples = 760\\nvalue = [0, 52, 320, 388]'),\n",
       " Text(0.6546382521489972, 0.84375, 'X[0] <= 573.5\\ngini = 0.447\\nsamples = 348\\nvalue = [0, 52, 249, 47]'),\n",
       " Text(0.5759312320916905, 0.78125, 'X[13] <= 2821.5\\ngini = 0.466\\nsamples = 27\\nvalue = [0, 17, 10, 0]'),\n",
       " Text(0.5702005730659025, 0.71875, 'X[11] <= 882.0\\ngini = 0.308\\nsamples = 21\\nvalue = [0, 17, 4, 0]'),\n",
       " Text(0.5644699140401146, 0.65625, 'X[2] <= 2.45\\ngini = 0.105\\nsamples = 18\\nvalue = [0, 17, 1, 0]'),\n",
       " Text(0.5587392550143266, 0.59375, 'gini = 0.0\\nsamples = 15\\nvalue = [0, 15, 0, 0]'),\n",
       " Text(0.5702005730659025, 0.59375, 'X[13] <= 2678.5\\ngini = 0.444\\nsamples = 3\\nvalue = [0, 2, 1, 0]'),\n",
       " Text(0.5644699140401146, 0.53125, 'gini = 0.0\\nsamples = 2\\nvalue = [0, 2, 0, 0]'),\n",
       " Text(0.5759312320916905, 0.53125, 'gini = 0.0\\nsamples = 1\\nvalue = [0, 0, 1, 0]'),\n",
       " Text(0.5759312320916905, 0.65625, 'gini = 0.0\\nsamples = 3\\nvalue = [0, 0, 3, 0]'),\n",
       " Text(0.5816618911174785, 0.71875, 'gini = 0.0\\nsamples = 6\\nvalue = [0, 0, 6, 0]'),\n",
       " Text(0.7333452722063037, 0.78125, 'X[11] <= 1514.0\\ngini = 0.412\\nsamples = 321\\nvalue = [0, 35, 239, 47]'),\n",
       " Text(0.6729942693409742, 0.71875, 'X[13] <= 2459.5\\ngini = 0.383\\nsamples = 306\\nvalue = [0, 35, 235, 36]'),\n",
       " Text(0.6131805157593123, 0.65625, 'X[12] <= 1175.0\\ngini = 0.429\\nsamples = 104\\nvalue = [0, 29, 73, 2]'),\n",
       " Text(0.5931232091690545, 0.59375, 'X[0] <= 1430.5\\ngini = 0.499\\nsamples = 52\\nvalue = [0, 27, 25, 0]'),\n",
       " Text(0.5873925501432665, 0.53125, 'X[2] <= 2.95\\ngini = 0.18\\nsamples = 30\\nvalue = [0, 27, 3, 0]'),\n",
       " Text(0.5816618911174785, 0.46875, 'X[8] <= 87.5\\ngini = 0.128\\nsamples = 29\\nvalue = [0, 27, 2, 0]'),\n",
       " Text(0.5759312320916905, 0.40625, 'gini = 0.0\\nsamples = 1\\nvalue = [0, 0, 1, 0]'),\n",
       " Text(0.5873925501432665, 0.40625, 'X[0] <= 1364.5\\ngini = 0.069\\nsamples = 28\\nvalue = [0, 27, 1, 0]'),\n",
       " Text(0.5816618911174785, 0.34375, 'gini = 0.0\\nsamples = 25\\nvalue = [0, 25, 0, 0]'),\n",
       " Text(0.5931232091690545, 0.34375, 'X[6] <= 31.0\\ngini = 0.444\\nsamples = 3\\nvalue = [0, 2, 1, 0]'),\n",
       " Text(0.5873925501432665, 0.28125, 'gini = 0.0\\nsamples = 1\\nvalue = [0, 0, 1, 0]'),\n",
       " Text(0.5988538681948424, 0.28125, 'gini = 0.0\\nsamples = 2\\nvalue = [0, 2, 0, 0]'),\n",
       " Text(0.5931232091690545, 0.46875, 'gini = 0.0\\nsamples = 1\\nvalue = [0, 0, 1, 0]'),\n",
       " Text(0.5988538681948424, 0.53125, 'gini = 0.0\\nsamples = 22\\nvalue = [0, 0, 22, 0]'),\n",
       " Text(0.6332378223495702, 0.59375, 'X[13] <= 2458.5\\ngini = 0.145\\nsamples = 52\\nvalue = [0, 2, 48, 2]'),\n",
       " Text(0.6275071633237822, 0.53125, 'X[0] <= 1833.5\\ngini = 0.112\\nsamples = 51\\nvalue = [0, 1, 48, 2]'),\n",
       " Text(0.6160458452722063, 0.46875, 'X[0] <= 718.5\\ngini = 0.043\\nsamples = 45\\nvalue = [0, 1, 44, 0]'),\n",
       " Text(0.6103151862464183, 0.40625, 'X[4] <= 2.0\\ngini = 0.245\\nsamples = 7\\nvalue = [0, 1, 6, 0]'),\n",
       " Text(0.6045845272206304, 0.34375, 'gini = 0.0\\nsamples = 1\\nvalue = [0, 1, 0, 0]'),\n",
       " Text(0.6160458452722063, 0.34375, 'gini = 0.0\\nsamples = 6\\nvalue = [0, 0, 6, 0]'),\n",
       " Text(0.6217765042979942, 0.40625, 'gini = 0.0\\nsamples = 38\\nvalue = [0, 0, 38, 0]'),\n",
       " Text(0.6389684813753582, 0.46875, 'X[12] <= 1511.5\\ngini = 0.444\\nsamples = 6\\nvalue = [0, 0, 4, 2]'),\n",
       " Text(0.6332378223495702, 0.40625, 'gini = 0.0\\nsamples = 4\\nvalue = [0, 0, 4, 0]'),\n",
       " Text(0.6446991404011462, 0.40625, 'gini = 0.0\\nsamples = 2\\nvalue = [0, 0, 0, 2]'),\n",
       " Text(0.6389684813753582, 0.53125, 'gini = 0.0\\nsamples = 1\\nvalue = [0, 1, 0, 0]'),\n",
       " Text(0.7328080229226361, 0.65625, 'X[0] <= 1659.5\\ngini = 0.328\\nsamples = 202\\nvalue = [0, 6, 162, 34]'),\n",
       " Text(0.6833810888252149, 0.59375, 'X[8] <= 83.5\\ngini = 0.215\\nsamples = 152\\nvalue = [0, 6, 134, 12]'),\n",
       " Text(0.667621776504298, 0.53125, 'X[11] <= 735.0\\ngini = 0.625\\nsamples = 4\\nvalue = [0, 1, 1, 2]'),\n",
       " Text(0.66189111747851, 0.46875, 'X[18] <= 0.5\\ngini = 0.5\\nsamples = 2\\nvalue = [0, 1, 1, 0]'),\n",
       " Text(0.6561604584527221, 0.40625, 'gini = 0.0\\nsamples = 1\\nvalue = [0, 1, 0, 0]'),\n",
       " Text(0.667621776504298, 0.40625, 'gini = 0.0\\nsamples = 1\\nvalue = [0, 0, 1, 0]'),\n",
       " Text(0.673352435530086, 0.46875, 'gini = 0.0\\nsamples = 2\\nvalue = [0, 0, 0, 2]'),\n",
       " Text(0.6991404011461319, 0.53125, 'X[11] <= 8.5\\ngini = 0.187\\nsamples = 148\\nvalue = [0, 5, 133, 10]'),\n",
       " Text(0.6934097421203438, 0.46875, 'gini = 0.0\\nsamples = 1\\nvalue = [0, 1, 0, 0]'),\n",
       " Text(0.7048710601719198, 0.46875, 'X[0] <= 1337.0\\ngini = 0.176\\nsamples = 147\\nvalue = [0, 4, 133, 10]'),\n",
       " Text(0.6790830945558739, 0.40625, 'X[11] <= 1300.5\\ngini = 0.122\\nsamples = 109\\nvalue = [0, 4, 102, 3]'),\n",
       " Text(0.66189111747851, 0.34375, 'X[13] <= 2649.5\\ngini = 0.095\\nsamples = 101\\nvalue = [0, 4, 96, 1]'),\n",
       " Text(0.6446991404011462, 0.28125, 'X[0] <= 655.0\\ngini = 0.238\\nsamples = 29\\nvalue = [0, 4, 25, 0]'),\n",
       " Text(0.6389684813753582, 0.21875, 'gini = 0.0\\nsamples = 2\\nvalue = [0, 2, 0, 0]'),\n",
       " Text(0.6504297994269341, 0.21875, 'X[12] <= 932.0\\ngini = 0.137\\nsamples = 27\\nvalue = [0, 2, 25, 0]'),\n",
       " Text(0.6446991404011462, 0.15625, 'X[14] <= 7.5\\ngini = 0.444\\nsamples = 3\\nvalue = [0, 2, 1, 0]'),\n",
       " Text(0.6389684813753582, 0.09375, 'gini = 0.0\\nsamples = 1\\nvalue = [0, 0, 1, 0]'),\n",
       " Text(0.6504297994269341, 0.09375, 'gini = 0.0\\nsamples = 2\\nvalue = [0, 2, 0, 0]'),\n",
       " Text(0.6561604584527221, 0.15625, 'gini = 0.0\\nsamples = 24\\nvalue = [0, 0, 24, 0]'),\n",
       " Text(0.6790830945558739, 0.28125, 'X[8] <= 85.0\\ngini = 0.027\\nsamples = 72\\nvalue = [0, 0, 71, 1]'),\n",
       " Text(0.673352435530086, 0.21875, 'X[4] <= 7.0\\ngini = 0.5\\nsamples = 2\\nvalue = [0, 0, 1, 1]'),\n",
       " Text(0.667621776504298, 0.15625, 'gini = 0.0\\nsamples = 1\\nvalue = [0, 0, 1, 0]'),\n",
       " Text(0.6790830945558739, 0.15625, 'gini = 0.0\\nsamples = 1\\nvalue = [0, 0, 0, 1]'),\n",
       " Text(0.6848137535816619, 0.21875, 'gini = 0.0\\nsamples = 70\\nvalue = [0, 0, 70, 0]'),\n",
       " Text(0.6962750716332379, 0.34375, 'X[8] <= 115.5\\ngini = 0.375\\nsamples = 8\\nvalue = [0, 0, 6, 2]'),\n",
       " Text(0.6905444126074498, 0.28125, 'gini = 0.0\\nsamples = 2\\nvalue = [0, 0, 0, 2]'),\n",
       " Text(0.7020057306590258, 0.28125, 'gini = 0.0\\nsamples = 6\\nvalue = [0, 0, 6, 0]'),\n",
       " Text(0.7306590257879656, 0.40625, 'X[11] <= 789.5\\ngini = 0.301\\nsamples = 38\\nvalue = [0, 0, 31, 7]'),\n",
       " Text(0.7191977077363897, 0.34375, 'X[6] <= 63.5\\ngini = 0.124\\nsamples = 30\\nvalue = [0, 0, 28, 2]'),\n",
       " Text(0.7134670487106017, 0.28125, 'X[16] <= 2.5\\ngini = 0.067\\nsamples = 29\\nvalue = [0, 0, 28, 1]'),\n",
       " Text(0.7077363896848138, 0.21875, 'gini = 0.0\\nsamples = 1\\nvalue = [0, 0, 0, 1]'),\n",
       " Text(0.7191977077363897, 0.21875, 'gini = 0.0\\nsamples = 28\\nvalue = [0, 0, 28, 0]'),\n",
       " Text(0.7249283667621776, 0.28125, 'gini = 0.0\\nsamples = 1\\nvalue = [0, 0, 0, 1]'),\n",
       " Text(0.7421203438395415, 0.34375, 'X[10] <= 15.5\\ngini = 0.469\\nsamples = 8\\nvalue = [0, 0, 3, 5]'),\n",
       " Text(0.7363896848137536, 0.28125, 'gini = 0.0\\nsamples = 5\\nvalue = [0, 0, 0, 5]'),\n",
       " Text(0.7478510028653295, 0.28125, 'gini = 0.0\\nsamples = 3\\nvalue = [0, 0, 3, 0]'),\n",
       " Text(0.7822349570200573, 0.59375, 'X[12] <= 1198.5\\ngini = 0.493\\nsamples = 50\\nvalue = [0, 0, 28, 22]'),\n",
       " Text(0.7707736389684814, 0.53125, 'X[16] <= 19.0\\ngini = 0.238\\nsamples = 29\\nvalue = [0, 0, 25, 4]'),\n",
       " Text(0.7650429799426934, 0.46875, 'X[14] <= 18.5\\ngini = 0.137\\nsamples = 27\\nvalue = [0, 0, 25, 2]'),\n",
       " Text(0.7593123209169055, 0.40625, 'X[0] <= 1954.0\\ngini = 0.074\\nsamples = 26\\nvalue = [0, 0, 25, 1]'),\n",
       " Text(0.7535816618911175, 0.34375, 'gini = 0.0\\nsamples = 23\\nvalue = [0, 0, 23, 0]'),\n",
       " Text(0.7650429799426934, 0.34375, 'X[0] <= 1973.5\\ngini = 0.444\\nsamples = 3\\nvalue = [0, 0, 2, 1]'),\n",
       " Text(0.7593123209169055, 0.28125, 'gini = 0.0\\nsamples = 1\\nvalue = [0, 0, 0, 1]'),\n",
       " Text(0.7707736389684814, 0.28125, 'gini = 0.0\\nsamples = 2\\nvalue = [0, 0, 2, 0]'),\n",
       " Text(0.7707736389684814, 0.40625, 'gini = 0.0\\nsamples = 1\\nvalue = [0, 0, 0, 1]'),\n",
       " Text(0.7765042979942693, 0.46875, 'gini = 0.0\\nsamples = 2\\nvalue = [0, 0, 0, 2]'),\n",
       " Text(0.7936962750716332, 0.53125, 'X[13] <= 2554.5\\ngini = 0.245\\nsamples = 21\\nvalue = [0, 0, 3, 18]'),\n",
       " Text(0.7879656160458453, 0.46875, 'X[15] <= 1.5\\ngini = 0.375\\nsamples = 4\\nvalue = [0, 0, 3, 1]'),\n",
       " Text(0.7822349570200573, 0.40625, 'gini = 0.0\\nsamples = 1\\nvalue = [0, 0, 0, 1]'),\n",
       " Text(0.7936962750716332, 0.40625, 'gini = 0.0\\nsamples = 3\\nvalue = [0, 0, 3, 0]'),\n",
       " Text(0.7994269340974212, 0.46875, 'gini = 0.0\\nsamples = 17\\nvalue = [0, 0, 0, 17]'),\n",
       " Text(0.7936962750716332, 0.71875, 'X[0] <= 852.0\\ngini = 0.391\\nsamples = 15\\nvalue = [0, 0, 4, 11]'),\n",
       " Text(0.7879656160458453, 0.65625, 'gini = 0.0\\nsamples = 3\\nvalue = [0, 0, 3, 0]'),\n",
       " Text(0.7994269340974212, 0.65625, 'X[2] <= 2.75\\ngini = 0.153\\nsamples = 12\\nvalue = [0, 0, 1, 11]'),\n",
       " Text(0.7936962750716332, 0.59375, 'gini = 0.0\\nsamples = 11\\nvalue = [0, 0, 0, 11]'),\n",
       " Text(0.8051575931232091, 0.59375, 'gini = 0.0\\nsamples = 1\\nvalue = [0, 0, 1, 0]'),\n",
       " Text(0.8810888252148997, 0.84375, 'X[0] <= 646.5\\ngini = 0.285\\nsamples = 412\\nvalue = [0, 0, 71, 341]'),\n",
       " Text(0.833810888252149, 0.78125, 'X[11] <= 835.0\\ngini = 0.458\\nsamples = 45\\nvalue = [0, 0, 29, 16]'),\n",
       " Text(0.8166189111747851, 0.71875, 'X[13] <= 3680.0\\ngini = 0.298\\nsamples = 33\\nvalue = [0, 0, 27, 6]'),\n",
       " Text(0.8108882521489972, 0.65625, 'gini = 0.0\\nsamples = 24\\nvalue = [0, 0, 24, 0]'),\n",
       " Text(0.8223495702005731, 0.65625, 'X[9] <= 2.5\\ngini = 0.444\\nsamples = 9\\nvalue = [0, 0, 3, 6]'),\n",
       " Text(0.8166189111747851, 0.59375, 'gini = 0.0\\nsamples = 3\\nvalue = [0, 0, 3, 0]'),\n",
       " Text(0.828080229226361, 0.59375, 'gini = 0.0\\nsamples = 6\\nvalue = [0, 0, 0, 6]'),\n",
       " Text(0.8510028653295129, 0.71875, 'X[13] <= 3205.5\\ngini = 0.278\\nsamples = 12\\nvalue = [0, 0, 2, 10]'),\n",
       " Text(0.8452722063037249, 0.65625, 'X[6] <= 22.0\\ngini = 0.444\\nsamples = 3\\nvalue = [0, 0, 2, 1]'),\n",
       " Text(0.839541547277937, 0.59375, 'gini = 0.0\\nsamples = 1\\nvalue = [0, 0, 0, 1]'),\n",
       " Text(0.8510028653295129, 0.59375, 'gini = 0.0\\nsamples = 2\\nvalue = [0, 0, 2, 0]'),\n",
       " Text(0.8567335243553008, 0.65625, 'gini = 0.0\\nsamples = 9\\nvalue = [0, 0, 0, 9]'),\n",
       " Text(0.9283667621776505, 0.78125, 'X[13] <= 3351.5\\ngini = 0.203\\nsamples = 367\\nvalue = [0, 0, 42, 325]'),\n",
       " Text(0.8882521489971347, 0.71875, 'X[12] <= 760.5\\ngini = 0.412\\nsamples = 124\\nvalue = [0, 0, 36, 88]'),\n",
       " Text(0.8681948424068768, 0.65625, 'X[0] <= 1512.5\\ngini = 0.365\\nsamples = 25\\nvalue = [0, 0, 19, 6]'),\n",
       " Text(0.8624641833810889, 0.59375, 'gini = 0.0\\nsamples = 17\\nvalue = [0, 0, 17, 0]'),\n",
       " Text(0.8739255014326648, 0.59375, 'X[13] <= 3103.0\\ngini = 0.375\\nsamples = 8\\nvalue = [0, 0, 2, 6]'),\n",
       " Text(0.8681948424068768, 0.53125, 'gini = 0.0\\nsamples = 2\\nvalue = [0, 0, 2, 0]'),\n",
       " Text(0.8796561604584527, 0.53125, 'gini = 0.0\\nsamples = 6\\nvalue = [0, 0, 0, 6]'),\n",
       " Text(0.9083094555873925, 0.65625, 'X[0] <= 1009.5\\ngini = 0.284\\nsamples = 99\\nvalue = [0, 0, 17, 82]'),\n",
       " Text(0.8968481375358166, 0.59375, 'X[11] <= 775.0\\ngini = 0.495\\nsamples = 20\\nvalue = [0, 0, 11, 9]'),\n",
       " Text(0.8911174785100286, 0.53125, 'X[13] <= 3232.5\\ngini = 0.26\\nsamples = 13\\nvalue = [0, 0, 11, 2]'),\n",
       " Text(0.8853868194842407, 0.46875, 'gini = 0.0\\nsamples = 11\\nvalue = [0, 0, 11, 0]'),\n",
       " Text(0.8968481375358166, 0.46875, 'gini = 0.0\\nsamples = 2\\nvalue = [0, 0, 0, 2]'),\n",
       " Text(0.9025787965616046, 0.53125, 'gini = 0.0\\nsamples = 7\\nvalue = [0, 0, 0, 7]'),\n",
       " Text(0.9197707736389685, 0.59375, 'X[11] <= 28.5\\ngini = 0.14\\nsamples = 79\\nvalue = [0, 0, 6, 73]'),\n",
       " Text(0.9140401146131805, 0.53125, 'gini = 0.0\\nsamples = 2\\nvalue = [0, 0, 2, 0]'),\n",
       " Text(0.9255014326647565, 0.53125, 'X[6] <= 6.0\\ngini = 0.098\\nsamples = 77\\nvalue = [0, 0, 4, 73]'),\n",
       " Text(0.9111747851002865, 0.46875, 'X[0] <= 1552.5\\ngini = 0.5\\nsamples = 4\\nvalue = [0, 0, 2, 2]'),\n",
       " Text(0.9054441260744985, 0.40625, 'gini = 0.0\\nsamples = 2\\nvalue = [0, 0, 2, 0]'),\n",
       " Text(0.9169054441260746, 0.40625, 'gini = 0.0\\nsamples = 2\\nvalue = [0, 0, 0, 2]'),\n",
       " Text(0.9398280802292264, 0.46875, 'X[8] <= 195.0\\ngini = 0.053\\nsamples = 73\\nvalue = [0, 0, 2, 71]'),\n",
       " Text(0.9283667621776505, 0.40625, 'X[11] <= 148.0\\ngini = 0.028\\nsamples = 70\\nvalue = [0, 0, 1, 69]'),\n",
       " Text(0.9226361031518625, 0.34375, 'X[11] <= 133.5\\ngini = 0.198\\nsamples = 9\\nvalue = [0, 0, 1, 8]'),\n",
       " Text(0.9169054441260746, 0.28125, 'gini = 0.0\\nsamples = 7\\nvalue = [0, 0, 0, 7]'),\n",
       " Text(0.9283667621776505, 0.28125, 'X[4] <= 5.0\\ngini = 0.5\\nsamples = 2\\nvalue = [0, 0, 1, 1]'),\n",
       " Text(0.9226361031518625, 0.21875, 'gini = 0.0\\nsamples = 1\\nvalue = [0, 0, 0, 1]'),\n",
       " Text(0.9340974212034384, 0.21875, 'gini = 0.0\\nsamples = 1\\nvalue = [0, 0, 1, 0]'),\n",
       " Text(0.9340974212034384, 0.34375, 'gini = 0.0\\nsamples = 61\\nvalue = [0, 0, 0, 61]'),\n",
       " Text(0.9512893982808023, 0.40625, 'X[7] <= 0.8\\ngini = 0.444\\nsamples = 3\\nvalue = [0, 0, 1, 2]'),\n",
       " Text(0.9455587392550143, 0.34375, 'gini = 0.0\\nsamples = 2\\nvalue = [0, 0, 0, 2]'),\n",
       " Text(0.9570200573065902, 0.34375, 'gini = 0.0\\nsamples = 1\\nvalue = [0, 0, 1, 0]'),\n",
       " Text(0.9684813753581661, 0.71875, 'X[0] <= 806.5\\ngini = 0.048\\nsamples = 243\\nvalue = [0, 0, 6, 237]'),\n",
       " Text(0.9541547277936963, 0.65625, 'X[12] <= 872.0\\ngini = 0.278\\nsamples = 30\\nvalue = [0, 0, 5, 25]'),\n",
       " Text(0.9426934097421203, 0.59375, 'X[4] <= 3.0\\ngini = 0.5\\nsamples = 8\\nvalue = [0, 0, 4, 4]'),\n",
       " Text(0.9369627507163324, 0.53125, 'gini = 0.0\\nsamples = 4\\nvalue = [0, 0, 0, 4]'),\n",
       " Text(0.9484240687679083, 0.53125, 'gini = 0.0\\nsamples = 4\\nvalue = [0, 0, 4, 0]'),\n",
       " Text(0.9656160458452722, 0.59375, 'X[16] <= 2.5\\ngini = 0.087\\nsamples = 22\\nvalue = [0, 0, 1, 21]'),\n",
       " Text(0.9598853868194842, 0.53125, 'gini = 0.0\\nsamples = 1\\nvalue = [0, 0, 1, 0]'),\n",
       " Text(0.9713467048710601, 0.53125, 'gini = 0.0\\nsamples = 21\\nvalue = [0, 0, 0, 21]'),\n",
       " Text(0.9828080229226361, 0.65625, 'X[4] <= 15.5\\ngini = 0.009\\nsamples = 213\\nvalue = [0, 0, 1, 212]'),\n",
       " Text(0.9770773638968482, 0.59375, 'gini = 0.0\\nsamples = 209\\nvalue = [0, 0, 0, 209]'),\n",
       " Text(0.9885386819484241, 0.59375, 'X[10] <= 19.5\\ngini = 0.375\\nsamples = 4\\nvalue = [0, 0, 1, 3]'),\n",
       " Text(0.9828080229226361, 0.53125, 'gini = 0.0\\nsamples = 3\\nvalue = [0, 0, 0, 3]'),\n",
       " Text(0.994269340974212, 0.53125, 'gini = 0.0\\nsamples = 1\\nvalue = [0, 0, 1, 0]')]"
      ]
     },
     "execution_count": 18,
     "metadata": {},
     "output_type": "execute_result"
    },
    {
     "data": {
      "image/png": "[encoded data removed]",
      "text/plain": [
       "<Figure size 432x288 with 1 Axes>"
      ]
     },
     "metadata": {
      "needs_background": "light"
     },
     "output_type": "display_data"
    }
   ],
   "source": [
    "tree.plot_tree(DesicionTree)"
   ]
  },
  {
   "cell_type": "code",
   "execution_count": 19,
   "id": "4226a6b5-b90f-46b4-a943-1d4f8de3d7af",
   "metadata": {},
   "outputs": [],
   "source": [
    "fn = X.columns\n",
    "cn= ['0', '1', '2', '3']\n",
    "tree.export_graphviz(DesicionTree,\n",
    "                     out_file=\"tree.dot\",\n",
    "                     feature_names = fn, \n",
    "                     class_names=cn,\n",
    "                     filled = True)"
   ]
  },
  {
   "cell_type": "code",
   "execution_count": 20,
   "id": "8f57cbbb-acb2-4c3f-9c42-e83fc34c8fb7",
   "metadata": {},
   "outputs": [],
   "source": [
    "!dot -Tpng tree.dot -o tree.png"
   ]
  },
  {
   "cell_type": "code",
   "execution_count": 25,
   "id": "9761f4a0-7207-4ddd-835a-3caa483ad425",
   "metadata": {},
   "outputs": [],
   "source": [
    "from sklearn.metrics import accuracy_score, auc, f1_score\n",
    "from sklearn import metrics"
   ]
  },
  {
   "cell_type": "code",
   "execution_count": 22,
   "id": "d523d9f2-cc65-47f9-b23c-143f47b08a38",
   "metadata": {},
   "outputs": [
    {
     "data": {
      "text/plain": [
       "0.8375"
      ]
     },
     "execution_count": 22,
     "metadata": {},
     "output_type": "execute_result"
    }
   ],
   "source": [
    "accuracy_score(y_val, preds)"
   ]
  },
  {
   "cell_type": "code",
   "execution_count": 30,
   "id": "d00b868e-54d8-4543-bd77-87a0897e783c",
   "metadata": {},
   "outputs": [
    {
     "name": "stdout",
     "output_type": "stream",
     "text": [
      "[[ 92  13   0   0]\n",
      " [  7  78   7   0]\n",
      " [  0  13  64  15]\n",
      " [  1   0   9 101]]\n",
      "              precision    recall  f1-score   support\n",
      "\n",
      "           0      0.920     0.876     0.898       105\n",
      "           1      0.750     0.848     0.796        92\n",
      "           2      0.800     0.696     0.744        92\n",
      "           3      0.871     0.910     0.890       111\n",
      "\n",
      "    accuracy                          0.838       400\n",
      "   macro avg      0.835     0.832     0.832       400\n",
      "weighted avg      0.840     0.838     0.837       400\n",
      "\n"
     ]
    }
   ],
   "source": [
    "print(metrics.confusion_matrix(y_val, preds))\n",
    "\n",
    "# Print the precision and recall, among other metrics\n",
    "print(metrics.classification_report(y_val, preds, digits=3))"
   ]
  },
  {
   "cell_type": "code",
   "execution_count": 33,
   "id": "3bd5bef2-2a1f-4d40-ac07-88fcbc29d841",
   "metadata": {},
   "outputs": [],
   "source": [
    "from sklearn import tree\n",
    "from sklearn.model_selection import GridSearchCV\n",
    "\n",
    "DesicionTree = tree.DecisionTreeClassifier()\n",
    "\n",
    "tree_param = {'criterion':['gini','entropy'],'max_depth':[4,5,6,7,8,9,10,11,12,15,20,30,40,50,70,90,120,150]}\n",
    "DesicionTree = GridSearchCV(DesicionTree, tree_param, cv=5)"
   ]
  },
  {
   "cell_type": "code",
   "execution_count": 34,
   "id": "31723994-0195-49a2-b589-3682d2c61b25",
   "metadata": {},
   "outputs": [
    {
     "data": {
      "text/plain": [
       "GridSearchCV(cv=5, estimator=DecisionTreeClassifier(),\n",
       "             param_grid={'criterion': ['gini', 'entropy'],\n",
       "                         'max_depth': [4, 5, 6, 7, 8, 9, 10, 11, 12, 15, 20, 30,\n",
       "                                       40, 50, 70, 90, 120, 150]})"
      ]
     },
     "execution_count": 34,
     "metadata": {},
     "output_type": "execute_result"
    }
   ],
   "source": [
    "DesicionTree.fit(X_train, y_train)"
   ]
  },
  {
   "cell_type": "code",
   "execution_count": 36,
   "id": "e8f0223e-e902-4ae9-b3c1-23e7aa0270cc",
   "metadata": {},
   "outputs": [
    {
     "data": {
      "text/plain": [
       "{'criterion': 'entropy', 'max_depth': 15}"
      ]
     },
     "execution_count": 36,
     "metadata": {},
     "output_type": "execute_result"
    }
   ],
   "source": [
    "DesicionTree.best_params_"
   ]
  },
  {
   "cell_type": "code",
   "execution_count": 40,
   "id": "5106d5f5-3dca-482f-895f-8868d01cf988",
   "metadata": {},
   "outputs": [
    {
     "data": {
      "text/plain": [
       "DecisionTreeClassifier(criterion='entropy', max_depth=15)"
      ]
     },
     "execution_count": 40,
     "metadata": {},
     "output_type": "execute_result"
    }
   ],
   "source": [
    "DesicionTree = tree.DecisionTreeClassifier(criterion = 'entropy', max_depth = 15)\n",
    "DesicionTree.fit(X_train, y_train)"
   ]
  },
  {
   "cell_type": "code",
   "execution_count": 41,
   "id": "294a074e-7376-489d-925a-ce12a17fd1fe",
   "metadata": {},
   "outputs": [],
   "source": [
    "preds = DesicionTree.predict(X_val)"
   ]
  },
  {
   "cell_type": "code",
   "execution_count": 42,
   "id": "3de56e62-fe1b-4a09-9a0b-8ad2fce43d5f",
   "metadata": {},
   "outputs": [
    {
     "name": "stdout",
     "output_type": "stream",
     "text": [
      "[[96  9  0  0]\n",
      " [ 7 78  7  0]\n",
      " [ 0 12 70 10]\n",
      " [ 0  1 13 97]]\n",
      "              precision    recall  f1-score   support\n",
      "\n",
      "           0      0.932     0.914     0.923       105\n",
      "           1      0.780     0.848     0.812        92\n",
      "           2      0.778     0.761     0.769        92\n",
      "           3      0.907     0.874     0.890       111\n",
      "\n",
      "    accuracy                          0.853       400\n",
      "   macro avg      0.849     0.849     0.849       400\n",
      "weighted avg      0.855     0.853     0.853       400\n",
      "\n"
     ]
    }
   ],
   "source": [
    "print(metrics.confusion_matrix(y_val, preds))\n",
    "\n",
    "# Print the precision and recall, among other metrics\n",
    "print(metrics.classification_report(y_val, preds, digits=3))"
   ]
  },
  {
   "cell_type": "code",
   "execution_count": 45,
   "id": "a235fb58-03f0-4c71-9d7b-2c6463255d75",
   "metadata": {},
   "outputs": [
    {
     "name": "stdout",
     "output_type": "stream",
     "text": [
      "{'n_estimators': [200, 400, 600, 800, 1000, 1200, 1400, 1600, 1800, 2000], 'max_features': ['auto', 'sqrt'], 'max_depth': [10, 20, 30, 40, 50, 60, 70, 80, 90, 100, 110, None], 'min_samples_split': [2, 5, 10], 'min_samples_leaf': [1, 2, 4], 'bootstrap': [True, False]}\n"
     ]
    }
   ],
   "source": [
    "from sklearn.model_selection import RandomizedSearchCV\n",
    "import numpy as np\n",
    "n_estimators = [int(x) for x in np.linspace(start = 200, stop = 2000, num = 10)]\n",
    "max_features = ['auto', 'sqrt']\n",
    "max_depth = [int(x) for x in np.linspace(10, 110, num = 11)]\n",
    "max_depth.append(None)\n",
    "min_samples_split = [2, 5, 10]\n",
    "min_samples_leaf = [1, 2, 4]\n",
    "bootstrap = [True, False]\n",
    "random_grid = {'n_estimators': n_estimators,\n",
    "               'max_features': max_features,\n",
    "               'max_depth': max_depth,\n",
    "               'min_samples_split': min_samples_split,\n",
    "               'min_samples_leaf': min_samples_leaf,\n",
    "               'bootstrap': bootstrap}\n",
    "print(random_grid)"
   ]
  },
  {
   "cell_type": "code",
   "execution_count": 69,
   "id": "c271cf1c-0dc4-4562-a096-60e2ee1f4ed2",
   "metadata": {},
   "outputs": [
    {
     "name": "stdout",
     "output_type": "stream",
     "text": [
      "CPU times: user 2 µs, sys: 1e+03 ns, total: 3 µs\n",
      "Wall time: 5.96 µs\n",
      "Fitting 3 folds for each of 100 candidates, totalling 300 fits\n"
     ]
    },
    {
     "data": {
      "text/plain": [
       "RandomizedSearchCV(cv=3, estimator=RandomForestClassifier(), n_iter=100,\n",
       "                   n_jobs=-1,\n",
       "                   param_distributions={'bootstrap': [True, False],\n",
       "                                        'max_depth': [10, 20, 30, 40, 50, 60,\n",
       "                                                      70, 80, 90, 100, 110,\n",
       "                                                      None],\n",
       "                                        'max_features': ['auto', 'sqrt'],\n",
       "                                        'min_samples_leaf': [1, 2, 4],\n",
       "                                        'min_samples_split': [2, 5, 10],\n",
       "                                        'n_estimators': [200, 400, 600, 800,\n",
       "                                                         1000, 1200, 1400, 1600,\n",
       "                                                         1800, 2000]},\n",
       "                   random_state=42, verbose=2)"
      ]
     },
     "execution_count": 69,
     "metadata": {},
     "output_type": "execute_result"
    }
   ],
   "source": [
    "%time\n",
    "from sklearn.ensemble import RandomForestClassifier\n",
    "RandomForest = RandomForestClassifier()\n",
    "\n",
    "rf_random = RandomizedSearchCV(estimator = RandomForest, param_distributions = random_grid, \n",
    "                               n_iter = 100, cv = 3, verbose=2, random_state=42, n_jobs = -1)\n",
    "\n",
    "rf_random.fit(X_train, y_train)\n"
   ]
  },
  {
   "cell_type": "code",
   "execution_count": 70,
   "id": "1fc93022-0f53-4e95-8672-0adebb7d07f3",
   "metadata": {},
   "outputs": [
    {
     "data": {
      "text/plain": [
       "{'n_estimators': 1800,\n",
       " 'min_samples_split': 2,\n",
       " 'min_samples_leaf': 2,\n",
       " 'max_features': 'auto',\n",
       " 'max_depth': 80,\n",
       " 'bootstrap': True}"
      ]
     },
     "execution_count": 70,
     "metadata": {},
     "output_type": "execute_result"
    }
   ],
   "source": [
    "rf_random.best_params_"
   ]
  },
  {
   "cell_type": "code",
   "execution_count": 72,
   "id": "22db0089-8a9a-4140-ac3a-c83499f189c2",
   "metadata": {},
   "outputs": [],
   "source": [
    "RandomForest = RandomForestClassifier(n_estimators = 1800, min_samples_split = 2,\n",
    " min_samples_leaf = 2,\n",
    " max_features = 'auto',\n",
    " max_depth = 80,\n",
    " bootstrap = True)"
   ]
  },
  {
   "cell_type": "code",
   "execution_count": 73,
   "id": "df0d443d-5214-4af0-9c8c-19d5b5dd6411",
   "metadata": {},
   "outputs": [
    {
     "data": {
      "text/plain": [
       "RandomForestClassifier(max_depth=80, min_samples_leaf=2, n_estimators=1800)"
      ]
     },
     "execution_count": 73,
     "metadata": {},
     "output_type": "execute_result"
    }
   ],
   "source": [
    "RandomForest.fit(X_train, y_train)"
   ]
  },
  {
   "cell_type": "code",
   "execution_count": 74,
   "id": "57b25b69-d436-4b8f-af2a-bd8eff2b90ec",
   "metadata": {},
   "outputs": [],
   "source": [
    "preds = RandomForest.predict(X_val)"
   ]
  },
  {
   "cell_type": "code",
   "execution_count": 76,
   "id": "c94dc69f-b795-4cd7-8776-7446f66db380",
   "metadata": {},
   "outputs": [
    {
     "data": {
      "text/plain": [
       "array([0, 2, 1, 3, 1, 2, 2, 0, 1, 1, 0, 1, 2, 3, 2, 2, 3, 3, 1, 0, 0, 1,\n",
       "       1, 2, 0, 1, 3, 2, 2, 0, 0, 0, 3, 0, 1, 1, 2, 0, 3, 0, 2, 3, 2, 0,\n",
       "       3, 2, 2, 1, 3, 1, 3, 1, 0, 0, 1, 1, 1, 2, 0, 0, 0, 3, 3, 1, 0, 0,\n",
       "       3, 3, 1, 2, 2, 3, 0, 1, 2, 0, 0, 3, 2, 2, 3, 2, 1, 0, 1, 3, 1, 3,\n",
       "       3, 0, 3, 3, 2, 1, 3, 2, 2, 3, 2, 1, 0, 0, 1, 0, 0, 3, 2, 0, 1, 1,\n",
       "       0, 0, 3, 1, 2, 2, 3, 3, 0, 2, 1, 3, 2, 1, 3, 3, 0, 3, 0, 2, 3, 0,\n",
       "       2, 2, 0, 3, 1, 0, 0, 2, 3, 0, 2, 2, 0, 0, 0, 1, 1, 2, 3, 1, 1, 0,\n",
       "       2, 2, 0, 1, 0, 2, 2, 3, 2, 2, 1, 0, 0, 2, 2, 3, 3, 1, 1, 0, 3, 1,\n",
       "       2, 2, 1, 0, 0, 0, 0, 0, 3, 2, 0, 3, 0, 0, 0, 0, 1, 3, 3, 1, 0, 1,\n",
       "       2, 1, 1, 2, 2, 2, 3, 3, 1, 2, 0, 0, 0, 2, 1, 1, 3, 1, 0, 2, 1, 1,\n",
       "       3, 1, 3, 0, 0, 2, 1, 2, 0, 0, 2, 0, 2, 3, 2, 0, 1, 3, 3, 0, 1, 3,\n",
       "       3, 3, 0, 3, 1, 2, 3, 3, 2, 1, 1, 3, 3, 1, 3, 3, 3, 3, 3, 0, 1, 2,\n",
       "       2, 2, 2, 0, 2, 3, 2, 2, 2, 1, 0, 2, 0, 2, 3, 1, 3, 1, 0, 3, 1, 2,\n",
       "       0, 0, 3, 0, 1, 2, 3, 3, 3, 1, 1, 0, 1, 3, 3, 0, 1, 1, 2, 0, 3, 3,\n",
       "       2, 3, 1, 3, 2, 0, 2, 1, 2, 1, 0, 0, 0, 3, 2, 3, 1, 0, 1, 0, 2, 2,\n",
       "       2, 0, 3, 3, 2, 1, 3, 0, 0, 3, 1, 3, 2, 0, 1, 1, 2, 1, 1, 3, 1, 0,\n",
       "       0, 3, 3, 0, 3, 0, 0, 2, 0, 0, 2, 2, 2, 3, 0, 3, 2, 2, 3, 3, 0, 2,\n",
       "       1, 2, 0, 3, 1, 3, 3, 0, 2, 3, 2, 3, 3, 3, 0, 0, 2, 3, 0, 0, 2, 3,\n",
       "       2, 1, 1, 2])"
      ]
     },
     "execution_count": 76,
     "metadata": {},
     "output_type": "execute_result"
    }
   ],
   "source": [
    "preds"
   ]
  },
  {
   "cell_type": "code",
   "execution_count": 77,
   "id": "2720bba0-182b-4487-8c9d-37c2465ab4a6",
   "metadata": {},
   "outputs": [
    {
     "name": "stdout",
     "output_type": "stream",
     "text": [
      "[[101   4   0   0]\n",
      " [  6  79   7   0]\n",
      " [  0   5  80   7]\n",
      " [  1   0  13  97]]\n",
      "              precision    recall  f1-score   support\n",
      "\n",
      "           0      0.935     0.962     0.948       105\n",
      "           1      0.898     0.859     0.878        92\n",
      "           2      0.800     0.870     0.833        92\n",
      "           3      0.933     0.874     0.902       111\n",
      "\n",
      "    accuracy                          0.892       400\n",
      "   macro avg      0.891     0.891     0.890       400\n",
      "weighted avg      0.895     0.892     0.893       400\n",
      "\n"
     ]
    }
   ],
   "source": [
    "print(metrics.confusion_matrix(y_val, preds))\n",
    "\n",
    "# Print the precision and recall, among other metrics\n",
    "print(metrics.classification_report(y_val, preds, digits=3))"
   ]
  },
  {
   "cell_type": "code",
   "execution_count": 78,
   "id": "61b25b84-d9d6-4511-818a-d04b19fd2684",
   "metadata": {},
   "outputs": [
    {
     "data": {
      "text/plain": [
       "0.8925"
      ]
     },
     "execution_count": 78,
     "metadata": {},
     "output_type": "execute_result"
    }
   ],
   "source": [
    "accuracy_score(y_val, preds)"
   ]
  },
  {
   "cell_type": "code",
   "execution_count": null,
   "id": "c43e4642-816d-4784-ab62-ae285c9a44fa",
   "metadata": {},
   "outputs": [],
   "source": []
  }
 ],
 "metadata": {
  "kernelspec": {
   "display_name": "Python 3 (ipykernel)",
   "language": "python",
   "name": "python3"
  },
  "language_info": {
   "codemirror_mode": {
    "name": "ipython",
    "version": 3
   },
   "file_extension": ".py",
   "mimetype": "text/x-python",
   "name": "python",
   "nbconvert_exporter": "python",
   "pygments_lexer": "ipython3",
   "version": "3.9.7"
  }
 },
 "nbformat": 4,
 "nbformat_minor": 5
}
